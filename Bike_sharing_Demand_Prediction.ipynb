{
  "nbformat": 4,
  "nbformat_minor": 0,
  "metadata": {
    "colab": {
      "private_outputs": true,
      "provenance": [],
      "collapsed_sections": [
        "vncDsAP0Gaoa",
        "FJNUwmbgGyua",
        "w6K7xa23Elo4",
        "yQaldy8SH6Dl",
        "mDgbUHAGgjLW",
        "O_i_v8NEhb9l",
        "HhfV-JJviCcP",
        "Y3lxredqlCYt",
        "3RnN4peoiCZX",
        "x71ZqKXriCWQ",
        "7hBIi_osiCS2",
        "JlHwYmJAmNHm",
        "35m5QtbWiB9F",
        "PoPl-ycgm1ru",
        "H0kj-8xxnORC",
        "nA9Y7ga8ng1Z",
        "PBTbrJXOngz2",
        "u3PMJOP6ngxN",
        "dauF4eBmngu3",
        "bKJF3rekwFvQ",
        "MSa1f5Uengrz",
        "GF8Ens_Soomf",
        "0wOQAZs5pc--",
        "K5QZ13OEpz2H",
        "lQ7QKXXCp7Bj",
        "448CDAPjqfQr",
        "KSlN3yHqYklG",
        "t6dVpIINYklI",
        "ijmpgYnKYklI",
        "-JiQyfWJYklI",
        "EM7whBJCYoAo",
        "fge-S5ZAYoAp",
        "85gYPyotYoAp",
        "RoGjAbkUYoAp",
        "4Of9eVA-YrdM",
        "iky9q4vBYrdO",
        "F6T5p64dYrdO",
        "y-Ehk30pYrdP",
        "bamQiAODYuh1",
        "QHF8YVU7Yuh3",
        "GwzvFGzlYuh3",
        "qYpmQ266Yuh3",
        "OH-pJp9IphqM",
        "bbFf2-_FphqN",
        "_ouA3fa0phqN",
        "Seke61FWphqN",
        "PIIx-8_IphqN",
        "t27r6nlMphqO",
        "r2jJGEOYphqO",
        "b0JNsNcRphqO",
        "BZR9WyysphqO",
        "jj7wYXLtphqO",
        "eZrbJ2SmphqO",
        "rFu4xreNphqO",
        "YJ55k-q6phqO",
        "gCFgpxoyphqP",
        "OVtJsKN_phqQ",
        "lssrdh5qphqQ",
        "U2RJ9gkRphqQ",
        "1M8mcRywphqQ",
        "tgIPom80phqQ",
        "JMzcOPDDphqR",
        "x-EpHcCOp1ci",
        "X_VqEhTip1ck",
        "8zGJKyg5p1ck",
        "PVzmfK_Ep1ck",
        "n3dbpmDWp1ck",
        "ylSl6qgtp1ck",
        "ZWILFDl5p1ck",
        "M7G43BXep1ck",
        "Ag9LCva-p1cl",
        "E6MkPsBcp1cl",
        "2cELzS2fp1cl",
        "3MPXvC8up1cl",
        "NC_X3p0fY2L0",
        "UV0SzAkaZNRQ",
        "YPEH6qLeZNRQ",
        "q29F0dvdveiT",
        "EXh0U9oCveiU",
        "22aHeOlLveiV",
        "g-ATYxFrGrvw",
        "Yfr_Vlr8HBkt",
        "8yEUt7NnHlrM",
        "tEA2Xm5dHt1r",
        "I79__PHVH19G",
        "Ou-I18pAyIpj",
        "fF3858GYyt-u",
        "4_0_7-oCpUZd",
        "hwyV_J3ipUZe",
        "3yB-zSqbpUZe",
        "dEUvejAfpUZe",
        "Fd15vwWVpUZf",
        "bn_IUdTipZyH",
        "49K5P_iCpZyH",
        "Nff-vKELpZyI",
        "kLW572S8pZyI",
        "dWbDXHzopZyI",
        "yLjJCtPM0KBk",
        "xiyOF9F70UgQ",
        "7wuGOrhz0itI",
        "id1riN9m0vUs",
        "578E2V7j08f6",
        "89xtkJwZ18nB",
        "67NQN5KX2AMe",
        "Iwf50b-R2tYG",
        "GMQiZwjn3iu7",
        "WVIkgGqN3qsr",
        "XkPnILGE3zoT",
        "Hlsf0x5436Go",
        "mT9DMSJo4nBL",
        "c49ITxTc407N",
        "OeJFEK0N496M",
        "9ExmJH0g5HBk",
        "cJNqERVU536h",
        "k5UmGsbsOxih",
        "T0VqWOYE6DLQ",
        "qBMux9mC6MCf",
        "-oLEiFgy-5Pf",
        "C74aWNz2AliB",
        "2DejudWSA-a0",
        "pEMng2IbBLp7",
        "rAdphbQ9Bhjc",
        "TNVZ9zx19K6k",
        "nqoHp30x9hH9",
        "rMDnDkt2B6du",
        "yiiVWRdJDDil",
        "1UUpS68QDMuG",
        "kexQrXU-DjzY",
        "T5CmagL3EC8N",
        "BhH2vgX9EjGr",
        "qjKvONjwE8ra",
        "P1XJ9OREExlT",
        "VFOzZv6IFROw",
        "TIqpNgepFxVj",
        "VfCC591jGiD4",
        "OB4l2ZhMeS1U",
        "ArJBuiUVfxKd",
        "4qY1EAkEfxKe",
        "PiV4Ypx8fxKe",
        "TfvqoZmBfxKf",
        "dJ2tPlVmpsJ0",
        "JWYfwnehpsJ1",
        "-jK_YjpMpsJ2",
        "HAih1iBOpsJ2",
        "zVGeBEFhpsJ2",
        "bmKjuQ-FpsJ3",
        "Fze-IPXLpx6K",
        "7AN1z2sKpx6M",
        "9PIHJqyupx6M",
        "_-qAgymDpx6N",
        "Z-hykwinpx6N",
        "h_CCil-SKHpo",
        "cBFFvTBNJzUa",
        "HvGl1hHyA_VK",
        "EyNgTHvd2WFk",
        "KH5McJBi2d8v",
        "iW_Lq9qf2h6X",
        "-Kee-DAl2viO",
        "gCX9965dhzqZ",
        "gIfDvo9L0UH2"
      ],
      "include_colab_link": true
    },
    "kernelspec": {
      "name": "python3",
      "display_name": "Python 3"
    },
    "language_info": {
      "name": "python"
    }
  },
  "cells": [
    {
      "cell_type": "markdown",
      "metadata": {
        "id": "view-in-github",
        "colab_type": "text"
      },
      "source": [
        "<a href=\"https://colab.research.google.com/github/Linku1999/Bike-sharing-Demand-Prediction/blob/main/Bike_sharing_Demand_Prediction.ipynb\" target=\"_parent\"><img src=\"https://colab.research.google.com/assets/colab-badge.svg\" alt=\"Open In Colab\"/></a>"
      ]
    },
    {
      "cell_type": "markdown",
      "source": [
        "# **Project Name**    -\n",
        "\n"
      ],
      "metadata": {
        "id": "vncDsAP0Gaoa"
      }
    },
    {
      "cell_type": "markdown",
      "source": [
        "##### **Project Type**    - Regression\n",
        "##### **Contribution**    - Individual\n",
        "##### **Name**- Jyoti Ranjan Sahoo\n"
      ],
      "metadata": {
        "id": "beRrZCGUAJYm"
      }
    },
    {
      "cell_type": "markdown",
      "source": [
        "# **Project Summary -**"
      ],
      "metadata": {
        "id": "FJNUwmbgGyua"
      }
    },
    {
      "cell_type": "markdown",
      "source": [
        "To increase convenience and mobility, bike rentals are now widely available in urban areas. A reliable supply of rental bikes is a big concern because ensuring prompt access to them is essential to cutting down on public wait times. In this regard, the anticipated hourly bicycle count is especially important.\n",
        "This dataset uses previous usage trends, including temperature, time, and other information, to forecast demand for Seoul's bike sharing programme.\n",
        "\n",
        "*   **In the given dataset there are total 8760 records and 14 columns**\n",
        "*   **First step towards project is to load the dataset and import the required liabraries for performing EDA**\n",
        "\n",
        "*   **Checked the first view of dataset using head, tail and sample method**\n",
        "*   **Checked the null and duplicate value and visualized the same using heatmap**\n",
        "\n",
        "*   **Done the data wrangling process on data to make data compatible for machine learning model**\n",
        "*   **Checked the distribution of target variable rented bike count and handled the class imbalence using square root method**\n",
        "\n",
        "*   **Treated the outliers using VIF method for independent variable**\n",
        "*   **Performed EDA of each variables and analyze the trend with target variable**\n",
        "\n",
        "*   **Finally cleaned and scaled data provided to variour models,the metrics were made to evaluate the model**\n",
        "*  **While developing the machine learning model, it is recommended to check multiple models but mainly we are focusing on R2 score and RMSE score**\n",
        "\n",
        "*   **In machine learning, R2 score is a popular evaluation metric used to assess the performance of regression models. It provides an indication of how well the model fits the data, with values ranging from 0 to 1.**\n",
        "*   **The importance of R2 score in machine learning lies in its ability to help determine the accuracy and generalization of the model. A high R2 score indicates that the model is able to explain a large portion of the variation in the data and is likely to generalize well to new data. On the other hand, a low R2 score indicates that the model is not able to capture the relationships between the variables and may not perform well on new data.**\n",
        "\n",
        "\n",
        "\n",
        "\n",
        "\n",
        "\n",
        "\n",
        "\n",
        "\n",
        "\n",
        "\n",
        "\n",
        "\n",
        "\n",
        "\n"
      ],
      "metadata": {
        "id": "F6v_1wHtG2nS"
      }
    },
    {
      "cell_type": "markdown",
      "source": [
        "# **GitHub Link -**"
      ],
      "metadata": {
        "id": "w6K7xa23Elo4"
      }
    },
    {
      "cell_type": "markdown",
      "source": [
        "\n",
        "\n",
        "```\n",
        "# This is formatted as code\n",
        "```\n",
        "\n",
        "https://github.com/Linku1999/Bike-sharing-Demand-Prediction/tree/main"
      ],
      "metadata": {
        "id": "h1o69JH3Eqqn"
      }
    },
    {
      "cell_type": "markdown",
      "source": [
        "# **Problem Statement**\n"
      ],
      "metadata": {
        "id": "yQaldy8SH6Dl"
      }
    },
    {
      "cell_type": "markdown",
      "source": [
        "1.   **Currently Rental Bikes are introduced in many urban cities for the enhancement of mobility comfort. It is important to make the rental bike available and accessible to the public at the right time as ot lessons the waiting time. Evetually, providing the city with a stable supply of rental bikes becomes a major concern. The crucial part is the prediction of bike count required at each hour for the stable supply of rental bikes.**\n",
        "\n",
        "\n",
        "2.   **Through a network of stations, bike sharing systems automate membership, rentals, and bike returns. It is possible for people to hire bicycles at one spot and return them at a different or the same location as needed. Bike rentals are facilitated by membership or request, and the operation is managed by an automated retail network spanning the entire city.**\n",
        "\n",
        "3.  **This dataset uses previous usage trends, including temperature, time, and other information, to forecast demand for Seoul's bike sharing programme.**\n",
        "\n",
        "\n",
        "\n"
      ],
      "metadata": {
        "id": "DpeJGUA3kjGy"
      }
    },
    {
      "cell_type": "markdown",
      "source": [
        "# **General Guidelines** : -  "
      ],
      "metadata": {
        "id": "mDgbUHAGgjLW"
      }
    },
    {
      "cell_type": "markdown",
      "source": [
        "1.   Well-structured, formatted, and commented code is required.\n",
        "2.   Exception Handling, Production Grade Code & Deployment Ready Code will be a plus. Those students will be awarded some additional credits.\n",
        "     \n",
        "     The additional credits will have advantages over other students during Star Student selection.\n",
        "       \n",
        "             [ Note: - Deployment Ready Code is defined as, the whole .ipynb notebook should be executable in one go\n",
        "                       without a single error logged. ]\n",
        "\n",
        "3.   Each and every logic should have proper comments.\n",
        "4. You may add as many number of charts you want. Make Sure for each and every chart the following format should be answered.\n",
        "        \n",
        "\n",
        "```\n",
        "# Chart visualization code\n",
        "```\n",
        "            \n",
        "\n",
        "*   Why did you pick the specific chart?\n",
        "*   What is/are the insight(s) found from the chart?\n",
        "* Will the gained insights help creating a positive business impact?\n",
        "Are there any insights that lead to negative growth? Justify with specific reason.\n",
        "\n",
        "5. You have to create at least 15 logical & meaningful charts having important insights.\n",
        "\n",
        "\n",
        "[ Hints : - Do the Vizualization in  a structured way while following \"UBM\" Rule.\n",
        "\n",
        "U - Univariate Analysis,\n",
        "\n",
        "B - Bivariate Analysis (Numerical - Categorical, Numerical - Numerical, Categorical - Categorical)\n",
        "\n",
        "M - Multivariate Analysis\n",
        " ]\n",
        "\n",
        "\n",
        "\n",
        "\n",
        "\n",
        "6. You may add more ml algorithms for model creation. Make sure for each and every algorithm, the following format should be answered.\n",
        "\n",
        "\n",
        "*   Explain the ML Model used and it's performance using Evaluation metric Score Chart.\n",
        "\n",
        "\n",
        "*   Cross- Validation & Hyperparameter Tuning\n",
        "\n",
        "*   Have you seen any improvement? Note down the improvement with updates Evaluation metric Score Chart.\n",
        "\n",
        "*   Explain each evaluation metric's indication towards business and the business impact pf the ML model used.\n",
        "\n",
        "\n",
        "\n",
        "\n",
        "\n",
        "\n",
        "\n",
        "\n",
        "\n",
        "\n",
        "\n",
        "\n",
        "\n",
        "\n",
        "\n",
        "\n",
        "\n",
        "\n"
      ],
      "metadata": {
        "id": "ZrxVaUj-hHfC"
      }
    },
    {
      "cell_type": "markdown",
      "source": [
        "# ***Let's Begin !***"
      ],
      "metadata": {
        "id": "O_i_v8NEhb9l"
      }
    },
    {
      "cell_type": "markdown",
      "source": [
        "## ***1. Know Your Data***"
      ],
      "metadata": {
        "id": "HhfV-JJviCcP"
      }
    },
    {
      "cell_type": "markdown",
      "source": [
        "\n",
        "\n",
        "```\n",
        "# This is formatted as code\n",
        "```\n",
        "\n",
        "### Import Libraries"
      ],
      "metadata": {
        "id": "Y3lxredqlCYt"
      }
    },
    {
      "cell_type": "code",
      "source": [
        "# Import Libraries\n",
        "# libraries that are used for analysis and visualization\n",
        "import pandas as pd\n",
        "import numpy as np\n",
        "import matplotlib.pyplot as plt\n",
        "%matplotlib inline\n",
        "import seaborn as sns\n",
        "\n",
        "# to import datetime library\n",
        "from datetime import datetime\n",
        "import datetime as dt\n",
        "\n",
        "# libraries used to pre-process\n",
        "from sklearn import preprocessing, linear_model\n",
        "from sklearn.preprocessing import StandardScaler\n",
        "from sklearn.preprocessing import OneHotEncoder\n",
        "from sklearn.model_selection import train_test_split\n",
        "\n",
        "\n",
        "# libraries used to implement models\n",
        "from sklearn.linear_model import LinearRegression, Ridge, Lasso, ElasticNet\n",
        "from sklearn.neighbors import KNeighborsRegressor\n",
        "from sklearn.tree import DecisionTreeRegressor\n",
        "from sklearn.ensemble import RandomForestRegressor, ExtraTreesRegressor, GradientBoostingRegressor, AdaBoostRegressor\n",
        "from sklearn.svm import SVR\n",
        "from xgboost import XGBRegressor\n",
        "from lightgbm import LGBMRegressor\n",
        "from sklearn.model_selection import GridSearchCV, RandomizedSearchCV\n",
        "\n",
        "# libraries to evaluate performance\n",
        "from sklearn import metrics\n",
        "from sklearn.metrics import mean_squared_error, r2_score, accuracy_score, mean_absolute_error\n",
        "\n",
        "# Library of warnings would assist in ignoring warnings issued\n",
        "import warnings\n",
        "warnings.filterwarnings('ignore')\n",
        "\n",
        "# to set max column display\n",
        "pd.pandas.set_option('display.max_columns',None)"
      ],
      "metadata": {
        "id": "M8Vqi-pPk-HR"
      },
      "execution_count": null,
      "outputs": []
    },
    {
      "cell_type": "markdown",
      "source": [
        "### Dataset Loading"
      ],
      "metadata": {
        "id": "3RnN4peoiCZX"
      }
    },
    {
      "cell_type": "code",
      "source": [
        "# Load Dataset\n",
        "#let's mount the google drive\n",
        "from google.colab import drive\n",
        "drive.mount('/content/drive')"
      ],
      "metadata": {
        "id": "4CkvbW_SlZ_R"
      },
      "execution_count": null,
      "outputs": []
    },
    {
      "cell_type": "code",
      "source": [
        "# load the Seol bike data set from the drive\n",
        "df_bike = pd.read_csv('/content/drive/MyDrive/Alamabetter/cohort enlighten/Mechine Learning/Linear Regression/SeoulBikeData.csv',encoding ='latin')"
      ],
      "metadata": {
        "id": "oyXuFkEpTVP9"
      },
      "execution_count": null,
      "outputs": []
    },
    {
      "cell_type": "markdown",
      "source": [
        "### Dataset First View"
      ],
      "metadata": {
        "id": "x71ZqKXriCWQ"
      }
    },
    {
      "cell_type": "code",
      "source": [
        "# Dataset First Look\n",
        "df_bike.head(10)"
      ],
      "metadata": {
        "id": "LWNFOSvLl09H"
      },
      "execution_count": null,
      "outputs": []
    },
    {
      "cell_type": "code",
      "source": [
        "df_bike.tail(10)"
      ],
      "metadata": {
        "id": "48RMeX3RUO1M"
      },
      "execution_count": null,
      "outputs": []
    },
    {
      "cell_type": "markdown",
      "source": [
        "### Dataset Rows & Columns count"
      ],
      "metadata": {
        "id": "7hBIi_osiCS2"
      }
    },
    {
      "cell_type": "code",
      "source": [
        "# Dataset Rows & Columns count\n",
        "df_bike.shape"
      ],
      "metadata": {
        "id": "Kllu7SJgmLij"
      },
      "execution_count": null,
      "outputs": []
    },
    {
      "cell_type": "code",
      "source": [
        "print(f'number of rows : {df_bike.shape[0]}  \\nnumber of columns : {df_bike.shape[1]}')"
      ],
      "metadata": {
        "id": "SLL9925xUYHR"
      },
      "execution_count": null,
      "outputs": []
    },
    {
      "cell_type": "markdown",
      "source": [
        "### Dataset Information"
      ],
      "metadata": {
        "id": "JlHwYmJAmNHm"
      }
    },
    {
      "cell_type": "code",
      "source": [
        "# Dataset Info\n",
        "df_bike.info()"
      ],
      "metadata": {
        "id": "e9hRXRi6meOf"
      },
      "execution_count": null,
      "outputs": []
    },
    {
      "cell_type": "markdown",
      "source": [
        "## **We have 14 column in dataset , in this 4 are catagorical and others are numerical columns**"
      ],
      "metadata": {
        "id": "gOmjzlkBUf6D"
      }
    },
    {
      "cell_type": "markdown",
      "source": [
        "#### Duplicate Values"
      ],
      "metadata": {
        "id": "35m5QtbWiB9F"
      }
    },
    {
      "cell_type": "code",
      "source": [
        "# Dataset Duplicate Value Count\n",
        "duplicate_value = len(df_bike[df_bike.duplicated()])\n",
        "print('The total duplicate values in dataset are {}'.format(duplicate_value))"
      ],
      "metadata": {
        "id": "1sLdpKYkmox0"
      },
      "execution_count": null,
      "outputs": []
    },
    {
      "cell_type": "markdown",
      "source": [
        "**No duplicate value found in this dataset**"
      ],
      "metadata": {
        "id": "MbgcmQ3UUohR"
      }
    },
    {
      "cell_type": "markdown",
      "source": [
        "#### Missing Values/Null Values"
      ],
      "metadata": {
        "id": "PoPl-ycgm1ru"
      }
    },
    {
      "cell_type": "code",
      "source": [
        "# Missing Values/Null Values Count\n",
        "print(df_bike.isna().sum())"
      ],
      "metadata": {
        "id": "GgHWkxvamxVg"
      },
      "execution_count": null,
      "outputs": []
    },
    {
      "cell_type": "code",
      "source": [
        "# Visualizing the missing values\n",
        "plt.figure(figsize=(10,5))\n",
        "sns.heatmap(df_bike.isna(), cmap = 'crest')"
      ],
      "metadata": {
        "id": "3q5wnI3om9sJ"
      },
      "execution_count": null,
      "outputs": []
    },
    {
      "cell_type": "markdown",
      "source": [
        "\n",
        "\n",
        "**From the above heatmap it is clear that there is no null value present in dataset, Data is clean and clear**"
      ],
      "metadata": {
        "id": "HvxO7dmUVKvg"
      }
    },
    {
      "cell_type": "markdown",
      "source": [
        "### What did you know about your dataset?"
      ],
      "metadata": {
        "id": "H0kj-8xxnORC"
      }
    },
    {
      "cell_type": "markdown",
      "source": [
        "\n",
        "\n",
        "1.   Provided dataset containes 14 columns and 8760 rows\n",
        "2.   Dataset does not have any null or duplicate value\n",
        "\n",
        "3.   10 columns are numerical values and remaining 4 are catagorical values\n",
        "\n",
        "\n",
        "\n"
      ],
      "metadata": {
        "id": "gfoNAAC-nUe_"
      }
    },
    {
      "cell_type": "markdown",
      "source": [
        "## ***2. Understanding Your Variables***"
      ],
      "metadata": {
        "id": "nA9Y7ga8ng1Z"
      }
    },
    {
      "cell_type": "code",
      "source": [
        "# Dataset Columns\n",
        "df_bike.columns"
      ],
      "metadata": {
        "id": "j7xfkqrt5Ag5"
      },
      "execution_count": null,
      "outputs": []
    },
    {
      "cell_type": "code",
      "source": [
        "# Dataset Describe\n",
        "df_bike.describe(include = 'all').T"
      ],
      "metadata": {
        "id": "DnOaZdaE5Q5t"
      },
      "execution_count": null,
      "outputs": []
    },
    {
      "cell_type": "markdown",
      "source": [
        "### Variables Description"
      ],
      "metadata": {
        "id": "PBTbrJXOngz2"
      }
    },
    {
      "cell_type": "markdown",
      "source": [
        "* **Date :**year-month-day\n",
        "* **Rented Bike count :**Count of bikes rented at each hour\n",
        "* **Hour :**Hour of the day\n",
        "* **Temperature :**Temperature in Celsius\n",
        "* **Humidity :**%\n",
        "* **Windspeed :**m/s\n",
        "* **Visibility :**10m\n",
        "* **Dew point temperature :**Celsius\n",
        "* **Solar radiation :**MJ/m2\n",
        "* **Rainfall :**mm\n",
        "* **Snowfall :**cm\n",
        "* **Seasons :**Winter, Spring, Summer, Autumn\n",
        "* **Holiday :**Holiday/No holiday\n",
        "* **Functional Day :** No Functioning(Non Functional Hours), Functioning(Functional hours)"
      ],
      "metadata": {
        "id": "aJV4KIxSnxay"
      }
    },
    {
      "cell_type": "markdown",
      "source": [
        "### Check Unique Values for each variable."
      ],
      "metadata": {
        "id": "u3PMJOP6ngxN"
      }
    },
    {
      "cell_type": "code",
      "source": [
        "# Check Unique Values for each variable.\n",
        "df_bike.nunique()"
      ],
      "metadata": {
        "id": "zms12Yq5n-jE"
      },
      "execution_count": null,
      "outputs": []
    },
    {
      "cell_type": "code",
      "source": [
        "for i in df_bike.columns.tolist():\n",
        "  print(\" unique values in\",i,\"is\",df_bike[i].nunique())"
      ],
      "metadata": {
        "id": "DeF02h2OVnez"
      },
      "execution_count": null,
      "outputs": []
    },
    {
      "cell_type": "markdown",
      "source": [
        "## 3. ***Data Wrangling***"
      ],
      "metadata": {
        "id": "dauF4eBmngu3"
      }
    },
    {
      "cell_type": "markdown",
      "source": [
        "### Data Wrangling Code"
      ],
      "metadata": {
        "id": "bKJF3rekwFvQ"
      }
    },
    {
      "cell_type": "code",
      "source": [
        "# Write your code to make your dataset analysis ready.\n",
        "# 1st need to rename the column to make simple name for accesing the data"
      ],
      "metadata": {
        "id": "wk-9a2fpoLcV"
      },
      "execution_count": null,
      "outputs": []
    },
    {
      "cell_type": "code",
      "source": [
        "df_bike=df_bike.rename(columns={'Rented Bike Count':'rented_bike_count',\n",
        "                                'Date':'date',\n",
        "                                'Hour':'hour',\n",
        "                                'Seasons':'seasons',\n",
        "                                'Holiday':'holiday',\n",
        "                                'Temperature(°C)':'temperature',\n",
        "                                'Humidity(%)':'humidity',\n",
        "                                'Wind speed (m/s)':'wind_speed',\n",
        "                                'Visibility (10m)':'visibility',\n",
        "                                'Dew point temperature(°C)':'dew_point_temperature',\n",
        "                                'Solar Radiation (MJ/m2)':'solar_radiation',\n",
        "                                'Rainfall(mm)':'rainfall',\n",
        "                                'Snowfall (cm)':'snowfall',\n",
        "                                'Functioning Day':'functioning_day'})"
      ],
      "metadata": {
        "id": "booZr-vRVszI"
      },
      "execution_count": null,
      "outputs": []
    },
    {
      "cell_type": "code",
      "source": [
        "df_bike.columns"
      ],
      "metadata": {
        "id": "0AYlnCoXV1q0"
      },
      "execution_count": null,
      "outputs": []
    },
    {
      "cell_type": "code",
      "source": [
        "# extracting the day, month and year from date column"
      ],
      "metadata": {
        "id": "k20pFdorczIt"
      },
      "execution_count": null,
      "outputs": []
    },
    {
      "cell_type": "code",
      "source": [
        "df_bike.date = pd.to_datetime(df_bike.date)"
      ],
      "metadata": {
        "id": "lxJINZ1oc1Pv"
      },
      "execution_count": null,
      "outputs": []
    },
    {
      "cell_type": "code",
      "source": [
        "df_bike['day'] = df_bike['date'].dt.day\n",
        "df_bike['month'] = df_bike['date'].dt.month\n",
        "df_bike['year'] = df_bike['date'].dt.year\n",
        "df_bike['weekday'] = df_bike['date'].dt.day_name()"
      ],
      "metadata": {
        "id": "rATnPObjdZxh"
      },
      "execution_count": null,
      "outputs": []
    },
    {
      "cell_type": "code",
      "source": [
        "# Let's now drop the date column by using the drop methods"
      ],
      "metadata": {
        "id": "TlkbhzQGdw2L"
      },
      "execution_count": null,
      "outputs": []
    },
    {
      "cell_type": "code",
      "source": [
        "df_bike.drop('date', axis = 1 , inplace = True)"
      ],
      "metadata": {
        "id": "U3AOUmm-dzTO"
      },
      "execution_count": null,
      "outputs": []
    },
    {
      "cell_type": "code",
      "source": [
        "df_bike.hour.unique()"
      ],
      "metadata": {
        "id": "hAYX4vabd5G4"
      },
      "execution_count": null,
      "outputs": []
    },
    {
      "cell_type": "markdown",
      "source": [
        "'Hour' column follows clear sequence for clear EDA purposes we will convert the 'Hour' column into catagorical variables and then we will lable it."
      ],
      "metadata": {
        "id": "58KVRSkneFXA"
      }
    },
    {
      "cell_type": "code",
      "source": [
        "def hour_cat(x):\n",
        "\n",
        "    '''\n",
        "    'Hour' column follows clear sequence for clear EDA purposes we will convert\n",
        "    the 'Hour' column into catagorical variables and then we will lable it.\n",
        "    '''\n",
        "\n",
        "    if x>4 and x<=8:\n",
        "        return 'Early Morning'\n",
        "    elif x>8 and x<=12:\n",
        "        return 'Morning'\n",
        "    elif x>12 and x<=16:\n",
        "        return 'Afternoon'\n",
        "    elif x>16 and x<=20:\n",
        "        return 'Evening'\n",
        "    elif x>20 and x<=24:\n",
        "        return 'Night'\n",
        "    elif x<=4:\n",
        "        return 'Late Night'\n",
        "\n",
        "#apply funtion to make new category column\n",
        "df_bike['hour_cat'] = df_bike['hour'].apply(hour_cat)"
      ],
      "metadata": {
        "id": "secmhVRMeeNb"
      },
      "execution_count": null,
      "outputs": []
    },
    {
      "cell_type": "code",
      "source": [
        "df_bike.head()"
      ],
      "metadata": {
        "id": "tkeTssBDeeP4"
      },
      "execution_count": null,
      "outputs": []
    },
    {
      "cell_type": "markdown",
      "source": [
        "\n",
        "\n",
        "### What all manipulations have you done and insights you found?"
      ],
      "metadata": {
        "id": "grIlG6CXfsYp"
      }
    },
    {
      "cell_type": "markdown",
      "source": [
        "1.   Column name has been changed for the simplicity of the data\n",
        "2.   Date column has been bifurgated and date, month, year extracted from the same and date column droped from the main dataset\n",
        "\n",
        "3.   'Hour' column follows clear sequence for clear EDA purposes we will convert the 'Hour' column into catagorical variables and then we will lable it.\n",
        "\n",
        "\n",
        "\n",
        "\n"
      ],
      "metadata": {
        "id": "2qA02ry0f3Uj"
      }
    },
    {
      "cell_type": "markdown",
      "source": [
        "## ***4. Data Vizualization, Storytelling & Experimenting with charts : Understand the relationships between variables***"
      ],
      "metadata": {
        "id": "GF8Ens_Soomf"
      }
    },
    {
      "cell_type": "markdown",
      "source": [
        "#### Chart - 1 - Target Variable - Rented Bike Count"
      ],
      "metadata": {
        "id": "0wOQAZs5pc--"
      }
    },
    {
      "cell_type": "code",
      "source": [
        "# Chart - 1 visualization code\n",
        "fig, ax = plt.subplots(1,3, figsize = (16,3))\n",
        "\n",
        "# Distribution analysis\n",
        "dist = sns.distplot(df_bike['rented_bike_count'], ax=ax[0])\n",
        "dist.set_title('Distribution of Rented Bike Count', size = 14)\n",
        "\n",
        "# Bi-variate analysis\n",
        "# Rented Bike Count vs Hour Catagory\n",
        "line = sns.pointplot(x='hour_cat',y='rented_bike_count', data=df_bike, ax=ax[1])\n",
        "line.set_title('Rented Bike Count vs Hour Catagory', size = 14)\n",
        "line.set_xticklabels(line.get_xticklabels(), rotation=75)\n",
        "\n",
        "# Bi-variate analysis\n",
        "# Rented Bike Count Vs Weekday\n",
        "point = sns.pointplot(data=df_bike, x='weekday', y='rented_bike_count', ax=ax[2])\n",
        "point.set_title('Rented Bike Count Vs Weekday', size=14)\n",
        "# Set x-ticks rotation to 90 degrees\n",
        "plt.xticks(rotation=75)"
      ],
      "metadata": {
        "id": "7v_ESjsspbW7"
      },
      "execution_count": null,
      "outputs": []
    },
    {
      "cell_type": "markdown",
      "source": [
        "##### 1. Why did you pick the specific chart?"
      ],
      "metadata": {
        "id": "K5QZ13OEpz2H"
      }
    },
    {
      "cell_type": "markdown",
      "source": [
        "\n",
        "\n",
        "*   Point plot clearly shows the distribution of the rentend bike along with hour and weekdays\n",
        "\n",
        "\n"
      ],
      "metadata": {
        "id": "XESiWehPqBRc"
      }
    },
    {
      "cell_type": "markdown",
      "source": [
        "##### 2. What is/are the insight(s) found from the chart?"
      ],
      "metadata": {
        "id": "lQ7QKXXCp7Bj"
      }
    },
    {
      "cell_type": "markdown",
      "source": [
        "*   Distribution of rented bike count is positively skewed.\n",
        "*   Demand for rented bike is increased at evening\n",
        "\n",
        "*   And demand on sunday is very less\n",
        "\n",
        "\n",
        "\n",
        "\n",
        "\n"
      ],
      "metadata": {
        "id": "C_j1G7yiqdRP"
      }
    },
    {
      "cell_type": "markdown",
      "source": [
        "##### 3. Will the gained insights help creating a positive business impact?\n",
        "Are there any insights that lead to negative growth? Justify with specific reason."
      ],
      "metadata": {
        "id": "448CDAPjqfQr"
      }
    },
    {
      "cell_type": "markdown",
      "source": [
        "Answer Here"
      ],
      "metadata": {
        "id": "3cspy4FjqxJW"
      }
    },
    {
      "cell_type": "markdown",
      "source": [
        "#### Chart - 2 - **Hour**"
      ],
      "metadata": {
        "id": "KSlN3yHqYklG"
      }
    },
    {
      "cell_type": "code",
      "source": [
        "# Chart - 2 visualization code\n",
        "# Bi-variate analysis\n",
        "fig,ax = plt.subplots(1,2,figsize=(12,4))\n",
        "\n",
        "# Rented Bike Count Vs Hour\n",
        "bar = sns.barplot(x='hour', y='rented_bike_count',data=df_bike, ax = ax[0])\n",
        "plt.xlabel('Hour')\n",
        "plt.ylabel('Rented Bike Count')\n",
        "bar.set_title('Rented Bike Count Vs Hour')\n",
        "\n",
        "# Multi-variate analysis\n",
        "point = sns.pointplot(data=df_bike, x='hour', y='rented_bike_count', hue='holiday', ax= ax[1])\n",
        "point.set(xlabel='Hour', ylabel = ' Rented Bike Count', title='Average Bike Rented Vs Hour with year')\n"
      ],
      "metadata": {
        "id": "R4YgtaqtYklH"
      },
      "execution_count": null,
      "outputs": []
    },
    {
      "cell_type": "markdown",
      "source": [
        "##### 1. Why did you pick the specific chart?"
      ],
      "metadata": {
        "id": "t6dVpIINYklI"
      }
    },
    {
      "cell_type": "markdown",
      "source": [
        "\n",
        "\n",
        "1.   Bar plot and line plot clarly shows the distribution of the variables\n",
        "\n",
        "\n",
        "\n",
        "\n"
      ],
      "metadata": {
        "id": "5aaW0BYyYklI"
      }
    },
    {
      "cell_type": "markdown",
      "source": [
        "##### 2. What is/are the insight(s) found from the chart?"
      ],
      "metadata": {
        "id": "ijmpgYnKYklI"
      }
    },
    {
      "cell_type": "markdown",
      "source": [
        "1.   Rentend bike demand increses at 8AM and 6PM during business hour\n",
        "2.   Rented bike follows two pattern for holiday and no-holiday\n",
        "\n",
        "3.   For working day demand for bike is high during the business hour\n",
        "\n",
        "\n",
        "\n",
        "\n"
      ],
      "metadata": {
        "id": "PSx9atu2YklI"
      }
    },
    {
      "cell_type": "markdown",
      "source": [
        "##### 3. Will the gained insights help creating a positive business impact?\n",
        "Are there any insights that lead to negative growth? Justify with specific reason."
      ],
      "metadata": {
        "id": "-JiQyfWJYklI"
      }
    },
    {
      "cell_type": "markdown",
      "source": [
        "\n",
        "\n",
        "*   **Yes, gained insights help to manage the count of bike during the specific time of day**\n",
        "\n"
      ],
      "metadata": {
        "id": "BcBbebzrYklV"
      }
    },
    {
      "cell_type": "markdown",
      "source": [
        "#### Chart - 3 - **Temperature**"
      ],
      "metadata": {
        "id": "EM7whBJCYoAo"
      }
    },
    {
      "cell_type": "code",
      "source": [
        "# Chart - 3 visualization code\n",
        "plt.figure(figsize = (10,4))\n",
        "# Rented Bike count vs Temperature\n",
        "line = sns.lineplot(x = 'temperature', y ='rented_bike_count', data = df_bike)\n",
        "line.set_title('Average rented bike count wrt temperature')\n",
        "plt.show()\n"
      ],
      "metadata": {
        "id": "t6GMdE67YoAp"
      },
      "execution_count": null,
      "outputs": []
    },
    {
      "cell_type": "markdown",
      "source": [
        "##### 1. Why did you pick the specific chart?"
      ],
      "metadata": {
        "id": "fge-S5ZAYoAp"
      }
    },
    {
      "cell_type": "markdown",
      "source": [
        "*   Line chart gives the clear understanding of distribution of temperature vs rental bike count\n",
        "\n"
      ],
      "metadata": {
        "id": "5dBItgRVYoAp"
      }
    },
    {
      "cell_type": "markdown",
      "source": [
        "##### 2. What is/are the insight(s) found from the chart?"
      ],
      "metadata": {
        "id": "85gYPyotYoAp"
      }
    },
    {
      "cell_type": "markdown",
      "source": [
        "*   It is observed that rented bike count demand increses when temperature is increses but for high temperature demand slightely decreases.\n",
        "*   So we can say people prefere bike in warm temperature, not to cold or not to hot\n"
      ],
      "metadata": {
        "id": "4jstXR6OYoAp"
      }
    },
    {
      "cell_type": "markdown",
      "source": [
        "##### 3. Will the gained insights help creating a positive business impact?\n",
        "Are there any insights that lead to negative growth? Justify with specific reason."
      ],
      "metadata": {
        "id": "RoGjAbkUYoAp"
      }
    },
    {
      "cell_type": "markdown",
      "source": [
        "\n",
        "*   This insights help us to manage the count of bike with the temperature\n",
        "\n"
      ],
      "metadata": {
        "id": "zfJ8IqMcYoAp"
      }
    },
    {
      "cell_type": "markdown",
      "source": [
        "#### Chart - 4 - **Humidity**"
      ],
      "metadata": {
        "id": "4Of9eVA-YrdM"
      }
    },
    {
      "cell_type": "code",
      "source": [
        "# Chart - 4 visualization code\n",
        "plt.figure(figsize = (10,4))\n",
        "\n",
        "sns.lineplot(x='humidity',y='rented_bike_count',data = df_bike)\n",
        "plt.title('Rented Bike Count Vs Humudity')\n",
        "plt.xlabel('Humidity')\n",
        "plt.ylabel('Rented Bike Count')\n"
      ],
      "metadata": {
        "id": "irlUoxc8YrdO"
      },
      "execution_count": null,
      "outputs": []
    },
    {
      "cell_type": "markdown",
      "source": [
        "##### 1. Why did you pick the specific chart?"
      ],
      "metadata": {
        "id": "iky9q4vBYrdO"
      }
    },
    {
      "cell_type": "markdown",
      "source": [
        "*   Line chart gives the clear understanding of distribution of humidity vs rental bike count"
      ],
      "metadata": {
        "id": "aJRCwT6DYrdO"
      }
    },
    {
      "cell_type": "markdown",
      "source": [
        "##### 2. What is/are the insight(s) found from the chart?"
      ],
      "metadata": {
        "id": "F6T5p64dYrdO"
      }
    },
    {
      "cell_type": "markdown",
      "source": [
        "*   Most preferred environmenet is 20 to 90 humidity\n",
        "\n"
      ],
      "metadata": {
        "id": "Xx8WAJvtYrdO"
      }
    },
    {
      "cell_type": "markdown",
      "source": [
        "#### Chart - 5 - **Wind Speed**"
      ],
      "metadata": {
        "id": "bamQiAODYuh1"
      }
    },
    {
      "cell_type": "code",
      "source": [
        "# Chart - 5 visualization code\n",
        "fig,ax = plt.subplots(1,2,figsize = (13,4))\n",
        "\n",
        "# Univariate analysis\n",
        "dist = sns.distplot(df_bike.wind_speed, ax = ax[0])\n",
        "dist.set_title('Distribution of Windspeed')\n",
        "\n",
        "#Bi-variate analysis\n",
        "# Line Plot\n",
        "group_wind_speed = df_bike.groupby(['wind_speed'])['rented_bike_count'].mean().reset_index()\n",
        "line = sns.lineplot(data=group_wind_speed, x='wind_speed', y = 'rented_bike_count', ax= ax[1])\n",
        "line.set(xlabel='Wind Speed', ylabel = ' Rented Bike Count', title='Average Bike Rented Vs Wind Speed')"
      ],
      "metadata": {
        "id": "TIJwrbroYuh3"
      },
      "execution_count": null,
      "outputs": []
    },
    {
      "cell_type": "markdown",
      "source": [
        "##### 1. Why did you pick the specific chart?"
      ],
      "metadata": {
        "id": "QHF8YVU7Yuh3"
      }
    },
    {
      "cell_type": "markdown",
      "source": [
        "*   Dist plot shows the distribution of the variable\n",
        "*   Line plot clearly shows the relationship between dependent and independent variable\n",
        "\n"
      ],
      "metadata": {
        "id": "dcxuIMRPYuh3"
      }
    },
    {
      "cell_type": "markdown",
      "source": [
        "##### 2. What is/are the insight(s) found from the chart?"
      ],
      "metadata": {
        "id": "GwzvFGzlYuh3"
      }
    },
    {
      "cell_type": "markdown",
      "source": [
        "*   Distribution of the windspeed is slightely right skeweed, we will treat it later\n",
        "*   We can say people prefers moderate windspeed but at 7 it is very high exceptionaly\n",
        "\n"
      ],
      "metadata": {
        "id": "uyqkiB8YYuh3"
      }
    },
    {
      "cell_type": "markdown",
      "source": [
        "#### Chart - 6 - **Visibility**"
      ],
      "metadata": {
        "id": "OH-pJp9IphqM"
      }
    },
    {
      "cell_type": "code",
      "source": [
        "# Chart - 6 visualization code\n",
        "fig,ax = plt.subplots(1,2, figsize=(13,4))\n",
        "\n",
        "# Univariate analysis\n",
        "dist = sns.distplot(df_bike.visibility, ax = ax[0])\n",
        "dist.set_title('Distribution Plot of Visibility')\n",
        "\n",
        "# Bi-variate analysis\n",
        "# Rented Bike Count Vs Visibility\n",
        "sns.scatterplot(x='visibility', y='rented_bike_count', data=df_bike, ax = ax[1])\n",
        "plt.xlabel('Visibility')\n",
        "plt.ylabel('Rented Bike Count')\n",
        "plt.title('Scatter Plot of Rented Bike Count Vs Visibility')"
      ],
      "metadata": {
        "id": "kuRf4wtuphqN"
      },
      "execution_count": null,
      "outputs": []
    },
    {
      "cell_type": "markdown",
      "source": [
        "##### 1. Why did you pick the specific chart?"
      ],
      "metadata": {
        "id": "bbFf2-_FphqN"
      }
    },
    {
      "cell_type": "markdown",
      "source": [
        "*   Dist plot shows the distribution of the variable\n",
        "*   Scatter plot shows scattering of the varibales against the rented bike count\n",
        "\n"
      ],
      "metadata": {
        "id": "loh7H2nzphqN"
      }
    },
    {
      "cell_type": "markdown",
      "source": [
        "##### 2. What is/are the insight(s) found from the chart?"
      ],
      "metadata": {
        "id": "_ouA3fa0phqN"
      }
    },
    {
      "cell_type": "markdown",
      "source": [
        "*   Visibility is hightely left skewed\n",
        "*   As visibility increases demand of rented bike also increases\n",
        "\n"
      ],
      "metadata": {
        "id": "VECbqPI7phqN"
      }
    },
    {
      "cell_type": "markdown",
      "source": [
        "#### Chart - 7 - **Dew Point Temperature**"
      ],
      "metadata": {
        "id": "PIIx-8_IphqN"
      }
    },
    {
      "cell_type": "code",
      "source": [
        "# Chart - 7 visualization code\n",
        "fig,ax = plt.subplots(1,3, figsize=(16,4))\n",
        "\n",
        "# Univariate analysis\n",
        "dist = sns.distplot(df_bike.dew_point_temperature, ax = ax[0])\n",
        "dist.set_title('Distribution Plot of Dew Point Temperature')\n",
        "\n",
        "# Bi-variate analysis\n",
        "# Rented Bike Count Vs Dew Point Temperature\n",
        "scatter = sns.scatterplot(x='dew_point_temperature', y='rented_bike_count', data=df_bike, ax = ax[1])\n",
        "plt.xlabel('Dew Point Temperature')\n",
        "plt.ylabel('Rented Bike Count')\n",
        "scatter.set_title('Scatter Plot of Rented Bike Count Vs Dew Point Temperature')\n",
        "\n",
        "# Line Plot\n",
        "group_dew_point_temperature = df_bike.groupby(['dew_point_temperature'])['rented_bike_count'].mean().reset_index()\n",
        "sns.lineplot(data = group_dew_point_temperature, x ='dew_point_temperature', y = 'rented_bike_count', ax= ax[2])\n",
        "plt.xlabel('Dew Point Temperature')\n",
        "plt.ylabel('Rented Bike Count')\n",
        "plt.title('Line Plot of Rented Bike Count Vs Dew Point Temperature')\n",
        "\n",
        "plt.tight_layout()\n",
        "plt.show()"
      ],
      "metadata": {
        "id": "lqAIGUfyphqO"
      },
      "execution_count": null,
      "outputs": []
    },
    {
      "cell_type": "markdown",
      "source": [
        "##### 1. Why did you pick the specific chart?"
      ],
      "metadata": {
        "id": "t27r6nlMphqO"
      }
    },
    {
      "cell_type": "markdown",
      "source": [
        "*   Scatter plot shows the distribution of variables on different points\n",
        "\n",
        "\n"
      ],
      "metadata": {
        "id": "iv6ro40sphqO"
      }
    },
    {
      "cell_type": "markdown",
      "source": [
        "##### 2. What is/are the insight(s) found from the chart?"
      ],
      "metadata": {
        "id": "r2jJGEOYphqO"
      }
    },
    {
      "cell_type": "markdown",
      "source": [
        "\n",
        "*   Distribution of dew point temperature found slightely skewed on negative side\n",
        "*   Line plot followed pattern same as temperature , as dew point temperature increases the rented bike count demand increases but at high dew point temperature the demand is decreased\n",
        "\n"
      ],
      "metadata": {
        "id": "Po6ZPi4hphqO"
      }
    },
    {
      "cell_type": "markdown",
      "source": [
        "#### Chart - 8 - **Solar Radiation**"
      ],
      "metadata": {
        "id": "BZR9WyysphqO"
      }
    },
    {
      "cell_type": "code",
      "source": [
        "# Chart - 8 visualization code\n",
        "fig,ax = plt.subplots(1,3, figsize=(16,4))\n",
        "\n",
        "# Univariate analysis\n",
        "dist = sns.distplot(df_bike.solar_radiation, ax = ax[0])\n",
        "dist.set_title('Distribution Plot of Solar Radiation')\n",
        "\n",
        "# Bi-variate analysis\n",
        "# Rented Bike Count Vs Solar Radiation\n",
        "scatter = sns.scatterplot(x='solar_radiation', y='rented_bike_count', data=df_bike, ax = ax[1])\n",
        "scatter.set(xlabel='Solar Radiation', ylabel='Rented Bike Count', title='Scatter Plot of Rented Bike Count Vs Solar Radiation')\n",
        "\n",
        "# Line Plot\n",
        "group_solar_radiation = df_bike.groupby(['solar_radiation'])['rented_bike_count'].mean().reset_index()\n",
        "line = sns.lineplot(data = group_solar_radiation, x ='solar_radiation', y = 'rented_bike_count', ax= ax[2])\n",
        "line.set(xlabel='Solar Radiation', ylabel = ' Rented Bike Count', title='Average Bike Rented Vs Solar Radiation')\n",
        "\n",
        "plt.tight_layout()\n",
        "plt.show()"
      ],
      "metadata": {
        "id": "TdPTWpAVphqO"
      },
      "execution_count": null,
      "outputs": []
    },
    {
      "cell_type": "markdown",
      "source": [
        "##### 1. Why did you pick the specific chart?"
      ],
      "metadata": {
        "id": "jj7wYXLtphqO"
      }
    },
    {
      "cell_type": "markdown",
      "source": [
        "*   Scatter plot shows the distribution of variables on different points\n"
      ],
      "metadata": {
        "id": "Ob8u6rCTphqO"
      }
    },
    {
      "cell_type": "markdown",
      "source": [
        "##### 2. What is/are the insight(s) found from the chart?"
      ],
      "metadata": {
        "id": "eZrbJ2SmphqO"
      }
    },
    {
      "cell_type": "markdown",
      "source": [
        "*   Distribution of solar radiation is right skewed\n",
        "*   And as per line and scatter plot it it found that as solar radiation increases demand of rented bike also increases\n",
        "\n"
      ],
      "metadata": {
        "id": "mZtgC_hjphqO"
      }
    },
    {
      "cell_type": "markdown",
      "source": [
        "#### Chart - 9 - **Rainfall**"
      ],
      "metadata": {
        "id": "YJ55k-q6phqO"
      }
    },
    {
      "cell_type": "code",
      "source": [
        "# Chart - 9 visualization code\n",
        "fig,ax = plt.subplots(1,2, figsize=(12,4))\n",
        "\n",
        "# Univariate analysis\n",
        "dist = sns.distplot(df_bike.rainfall, ax = ax[0])\n",
        "dist.set_title('Distribution Plot of Rainfall')\n",
        "\n",
        "# Bi-variate analysis\n",
        "# Rented Bike Count Vs Rainfall\n",
        "scatter = sns.scatterplot(x='rainfall', y='rented_bike_count', data=df_bike, ax = ax[1])\n",
        "scatter.set(xlabel='Rainfall', ylabel='Rented Bike Count', title='Scatter Plot of Rented Bike Count Vs Rainfall')\n"
      ],
      "metadata": {
        "id": "B2aS4O1ophqO"
      },
      "execution_count": null,
      "outputs": []
    },
    {
      "cell_type": "markdown",
      "source": [
        "##### 1. What is/are the insight(s) found from the chart?"
      ],
      "metadata": {
        "id": "OVtJsKN_phqQ"
      }
    },
    {
      "cell_type": "markdown",
      "source": [
        "*   Distribution of rainfall is very much right skewed\n",
        "*   And as per scatter plot it is clear that people do not prefer the bike in rainfall\n",
        "\n"
      ],
      "metadata": {
        "id": "ngGi97qjphqQ"
      }
    },
    {
      "cell_type": "markdown",
      "source": [
        "#### Chart - 10 - **Snowfall**"
      ],
      "metadata": {
        "id": "U2RJ9gkRphqQ"
      }
    },
    {
      "cell_type": "code",
      "source": [
        "# Chart - 10 visualization code\n",
        "fig,ax = plt.subplots(1,2, figsize=(12,4))\n",
        "\n",
        "# Univariate analysis\n",
        "dist = sns.distplot(df_bike.snowfall, ax = ax[0])\n",
        "dist.set_title('Distribution Plot of Snowfall')\n",
        "\n",
        "# Bi-variate analysis\n",
        "# Rented Bike Count Vs Snowfall\n",
        "scatter = sns.scatterplot(x='snowfall', y='rented_bike_count', data=df_bike, ax = ax[1])\n",
        "scatter.set(xlabel='Snowfall', ylabel='Rented Bike Count', title='Scatter Plot of Rented Bike Count Vs Snowfall')\n"
      ],
      "metadata": {
        "id": "GM7a4YP4phqQ"
      },
      "execution_count": null,
      "outputs": []
    },
    {
      "cell_type": "markdown",
      "source": [
        "##### 1. What is/are the insight(s) found from the chart?"
      ],
      "metadata": {
        "id": "tgIPom80phqQ"
      }
    },
    {
      "cell_type": "markdown",
      "source": [
        "\n",
        "\n",
        "*   Distribution of snowfall is very much right skewed\n",
        "\n",
        "*   And as per scatter plot it is clear that people do not prefer the bike in snowfall\n",
        "\n"
      ],
      "metadata": {
        "id": "Qp13pnNzphqQ"
      }
    },
    {
      "cell_type": "markdown",
      "source": [
        "#### Chart - 11 - **Seasons**"
      ],
      "metadata": {
        "id": "x-EpHcCOp1ci"
      }
    },
    {
      "cell_type": "code",
      "source": [
        "# Chart - 11 visualization code\n",
        "\n",
        "fig,ax = plt.subplots(1,3, figsize=(16,4))\n",
        "\n",
        "# Univariate analysis\n",
        "count = sns.countplot(x='seasons',data=df_bike, ax=ax[0])\n",
        "count.set_title('Count Plot of Seasons')\n",
        "\n",
        "# Bi-variate analysis\n",
        "# Rented Bike Count Vs Seasons\n",
        "bar = sns.barplot(x='seasons', y='rented_bike_count', data=df_bike, ax = ax[1])\n",
        "bar.set(xlabel='Seasons', ylabel='Rented Bike Count', title='Rented Bike Count Vs Seasons')\n",
        "\n",
        "# Multi-variate analysis\n",
        "cat = sns.barplot(x='seasons', y='rented_bike_count', data=df_bike, hue='holiday', ax= ax[2])\n",
        "cat.set(xlabel='Seasons', ylabel = ' Rented Bike Count', title='Average Bike Rented Vs Seasons with holiday status')\n",
        "\n",
        "plt.tight_layout()\n",
        "plt.show()"
      ],
      "metadata": {
        "id": "mAQTIvtqp1cj"
      },
      "execution_count": null,
      "outputs": []
    },
    {
      "cell_type": "markdown",
      "source": [
        "##### 1. Why did you pick the specific chart?"
      ],
      "metadata": {
        "id": "X_VqEhTip1ck"
      }
    },
    {
      "cell_type": "markdown",
      "source": [
        "*   Bar chart clearly shows the distribution of two variables\n",
        "\n",
        "\n"
      ],
      "metadata": {
        "id": "-vsMzt_np1ck"
      }
    },
    {
      "cell_type": "markdown",
      "source": [
        "##### 2. What is/are the insight(s) found from the chart?"
      ],
      "metadata": {
        "id": "8zGJKyg5p1ck"
      }
    },
    {
      "cell_type": "markdown",
      "source": [
        "*   The most preferred season for the rented_bike_count is summer and the least preferred is winter which means that people prefer to rent bikes in warm temperatures.\n",
        "\n",
        "*   Demand on working day is high than the holiday\n",
        "\n",
        "\n",
        "\n",
        "\n"
      ],
      "metadata": {
        "id": "ZYdMsrqVp1ck"
      }
    },
    {
      "cell_type": "markdown",
      "source": [
        "#### Chart - 12 - **Functioning Day**"
      ],
      "metadata": {
        "id": "n3dbpmDWp1ck"
      }
    },
    {
      "cell_type": "code",
      "source": [
        "# Chart - 12 visualization code\n",
        "fig,ax = plt.subplots(1,3, figsize=(16,4))\n",
        "\n",
        "# Univariate analysis\n",
        "count = sns.countplot(x='functioning_day', data=df_bike, ax=ax[0])\n",
        "count.set_title('Count Plot of Functioning Day')\n",
        "\n",
        "# Bi-variate analysis\n",
        "# Rented Bike Count Vs Functioning Day\n",
        "bar = sns.barplot(x='functioning_day', y='rented_bike_count', data=df_bike,  ax = ax[1])\n",
        "bar.set(xlabel='Functioning Day', ylabel='Rented Bike Count', title='Rented Bike Count Vs Functioning Day')\n",
        "\n",
        "# Multi-variate analysis\n",
        "cat = sns.barplot(x='functioning_day', y='rented_bike_count', hue='hour_cat', data=df_bike,  ax= ax[2])\n",
        "cat.set(xlabel='Functioning Day', ylabel = ' Rented Bike Count', title='Average Bike Rented Vs Functioning Day with session')\n",
        "\n",
        "plt.tight_layout()\n",
        "plt.show()"
      ],
      "metadata": {
        "id": "bwevp1tKp1ck"
      },
      "execution_count": null,
      "outputs": []
    },
    {
      "cell_type": "markdown",
      "source": [
        "##### 1. What is/are the insight(s) found from the chart?"
      ],
      "metadata": {
        "id": "ZWILFDl5p1ck"
      }
    },
    {
      "cell_type": "markdown",
      "source": [
        "*   No any bike rented on no functioning day\n",
        "*   At evening session more of the bike are rented\n",
        "\n"
      ],
      "metadata": {
        "id": "x-lUsV2mp1ck"
      }
    },
    {
      "cell_type": "markdown",
      "source": [
        "#### Chart - 13 - Correlation Heatmap"
      ],
      "metadata": {
        "id": "NC_X3p0fY2L0"
      }
    },
    {
      "cell_type": "code",
      "source": [
        "# Correlation Heatmap visualization code\n",
        "\n",
        "plt.figure(figsize=(16,6))\n",
        "sns.heatmap(df_bike.corr(), annot=True, cmap='coolwarm')"
      ],
      "metadata": {
        "id": "xyC9zolEZNRQ"
      },
      "execution_count": null,
      "outputs": []
    },
    {
      "cell_type": "markdown",
      "source": [
        "##### 1. Why did you pick the specific chart?"
      ],
      "metadata": {
        "id": "UV0SzAkaZNRQ"
      }
    },
    {
      "cell_type": "markdown",
      "source": [
        "*   To check the co-relation of the variables to each others\n",
        "\n",
        "\n"
      ],
      "metadata": {
        "id": "DVPuT8LYZNRQ"
      }
    },
    {
      "cell_type": "markdown",
      "source": [
        "##### 2. What is/are the insight(s) found from the chart?"
      ],
      "metadata": {
        "id": "YPEH6qLeZNRQ"
      }
    },
    {
      "cell_type": "markdown",
      "source": [
        "\n",
        "*   Dew point temperature is highly co-related with temperature , we will treat it later\n",
        "\n"
      ],
      "metadata": {
        "id": "bfSqtnDqZNRR"
      }
    }
  ]
}